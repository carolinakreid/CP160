{
 "cells": [
  {
   "cell_type": "markdown",
   "metadata": {},
   "source": [
    "# CP160: Community Development\n",
    "\n",
    "In this datascience module, we're going to explore the relationship between historical patterns of redlining and concentrated poverty today.  Community and economic development is fundamentally about bringing investment back to high-poverty areas due to lack of access to credit and other forms of capital.  It recognizes that poverty is in part due to structural--not individual--causes.  So let's look at how past policies that contributed to disinvestment of minority neighborhoods in the 1940s and 1950s still influence our cities today.\n",
    "\n",
    "In the first part of today's module, we're going to introduce you to the Jupyter Notebook.  We'll then look at some redlining maps, and discuss them as a group.  Finally, we'll analyze whether areas that were indicated as being \"high risk\" on the map have higher rates of poverty today."
   ]
  },
  {
   "cell_type": "markdown",
   "metadata": {},
   "source": [
    "## 1.0 The Jupyter Notebook\n",
    "\n",
    "First of all, note that this page is divided into what are called cells. You can navigate cells by clicking on them or by using the up and down arrows. Cells will be highlighted as you navigate them."
   ]
  },
  {
   "cell_type": "markdown",
   "metadata": {},
   "source": [
    "### Text cells\n",
    "\n",
    "Text cells (like this one) can be edited by double-clicking on them. They're written in a simple format called Markdown to add formatting and section headings. You don't need to learn Markdown, but know the difference between Text Cells and Code Cells."
   ]
  },
  {
   "cell_type": "markdown",
   "metadata": {},
   "source": [
    "### Code cells\n",
    "\n",
    "Other cells contain code in the Python 3 language. Don't worry -- we'll show you everything you need to know to succeed in this part of the class.\n",
    "\n",
    "The fundamental building block of Python code is an expression. Cells can contain multiple lines with multiple expressions. \n",
    "\n",
    "Let's learn how to \"run\" cells."
   ]
  },
  {
   "cell_type": "markdown",
   "metadata": {},
   "source": [
    "### Running cells\n",
    "\n",
    "\"Running a cell\" is equivalent to pressing \"Enter\" on a calculator once you've typed in the expression you want to evaluate: it produces an output. When you run a text cell, it outputs clean, organized writing. When you run a code cell, it computes all of the expressions you want to evaluate, and can output the result of the computation.\n",
    "\n",
    "To run the code in a code cell, first click on that cell to activate it. It'll be highlighted with a little green or blue rectangle. Next, you can either press the ▶| Run button above or press Shift + Return or Shift + Enter. This will run the current cell and select the next one.\n",
    "\n",
    "Text cells are useful for taking notes and keeping your notebook organized, but your data analysis will be done in code cells. We will focus on code cells for the rest of the class.\n",
    "\n",
    "### How to Save Your Work\n",
    "\n",
    "Click on the leftmost icon in the tool bar (left of the plus icon).\n",
    "Alternatively, you can hit Ctrl+S on a PC or Command+Enter on a Mac!\n"
   ]
  },
  {
   "cell_type": "markdown",
   "metadata": {},
   "source": [
    "### Importing libraries\n",
    "\n",
    "This next code cell allows us to import different packages that will allow us to do the analysis later.  Just run the cells.  If the cell runs successfully, you'll see a number show up in the brackets on the left."
   ]
  },
  {
   "cell_type": "code",
   "execution_count": null,
   "metadata": {},
   "outputs": [],
   "source": [
    "import warnings\n",
    "warnings.filterwarnings('ignore')"
   ]
  },
  {
   "cell_type": "code",
   "execution_count": null,
   "metadata": {},
   "outputs": [],
   "source": [
    "pip install -Iv geopandas==0.8.2"
   ]
  },
  {
   "cell_type": "code",
   "execution_count": null,
   "metadata": {},
   "outputs": [],
   "source": [
    "pip install geojson -q"
   ]
  },
  {
   "cell_type": "code",
   "execution_count": null,
   "metadata": {},
   "outputs": [],
   "source": [
    "#Importing Utilities\n",
    "#These are all pre-written Python packages that we will be using to read in, clean, analyze, and model our data.\n",
    "import geopandas\n",
    "import os\n",
    "import re\n",
    "import geojson\n",
    "import folium\n",
    "import math\n",
    "import json as json\n",
    "import matplotlib as mpl\n",
    "import pylab as plt\n",
    "import pandas as pd\n",
    "import numpy as np\n",
    "import seaborn as sns\n",
    "import matplotlib.pyplot as plt\n",
    "import ipywidgets as widgets\n",
    "from IPython.display import IFrame\n",
    "plt.style.use('fivethirtyeight')\n",
    "# import ipywidgets as widgets\n",
    "%matplotlib inline\n",
    "pd.options.display.float_format = '{:.2f}'.format"
   ]
  },
  {
   "cell_type": "markdown",
   "metadata": {},
   "source": [
    "## 2.0  Redlining Maps\n",
    "\n",
    "Before we analyze how redlining has affected current conditions, let's take a look at the redlining map for Oakland.  Run the next three cells. "
   ]
  },
  {
   "cell_type": "code",
   "execution_count": null,
   "metadata": {},
   "outputs": [],
   "source": [
    "#This cell imports the map file for Oakland\n",
    "\n",
    "geo_json_data = json.load(open('CAOakland1937.geojson'))"
   ]
  },
  {
   "cell_type": "code",
   "execution_count": null,
   "metadata": {},
   "outputs": [],
   "source": [
    "# This cell assigns each of the HOLC grades a color\n",
    "\n",
    "def my_color_function(feature):\n",
    "    if feature['properties']['holc_grade']== 'A':\n",
    "        return '#98ff98'\n",
    "    elif feature['properties']['holc_grade']== 'B':\n",
    "        return '#5bc0de'\n",
    "    elif feature['properties']['holc_grade'] =='C':\n",
    "        return '#ffe200'\n",
    "    else:\n",
    "        return '#ff00aa'"
   ]
  },
  {
   "cell_type": "code",
   "execution_count": null,
   "metadata": {},
   "outputs": [],
   "source": [
    "#  This cell draws the map, including the coordinates for Oakland\n",
    "m = folium.Map([37.8044,-122.271], tiles='cartodbpositron', zoom_start=12)\n",
    "folium.GeoJson(\n",
    "    geo_json_data,\n",
    "        style_function=lambda feature: {\n",
    "        'fillColor': my_color_function(feature),\n",
    "        'color' : 'black',\n",
    "        'weight' : 1,   \n",
    "        }\n",
    "    ).add_to(m)\n",
    "m"
   ]
  },
  {
   "cell_type": "markdown",
   "metadata": {},
   "source": [
    "## 3.0  Comparing Redlining Scores with Conditions Today\n",
    "\n",
    "Community development seeks to undo the structural forces that helped to create conditions of concentrated poverty by investing in neighborhoods that were once redlined.  Let's explore how redlining still affects neighborhoods today.\n",
    "\n",
    "Each of the HOLC grades has been given a number.  Neighborhoods assigned a value of 1 were considered \"safe\" to lend in and were indicated in green on the map.  Neighborhoods assigned a value of 2 were also considered \"safe\", were indicated in blue, and borrowers there could get FHA loans.  Neighborhoods assigned a value of 3 (yellow) could still get loans, but the appraisers were indicating that they were concerned that the neighborhood was declining.  Neighborhoods assigned a value of 4 (red) were considered \"hazardous\" and the federal government refused to guarantee mortgages in those areas.\n",
    "\n",
    "We're going to see how scores assigned in the 1940s-1960s influence conditions in Oakland today."
   ]
  },
  {
   "cell_type": "code",
   "execution_count": null,
   "metadata": {},
   "outputs": [],
   "source": [
    "#  First, we're going to read in data that Carolina pulled from Policy Map\n",
    "!pip install xlrd\n",
    "df_2017 = pd.read_excel('Oakland_1990_2017_Data.xlsx', dtype={\"Census Tract\":str})"
   ]
  },
  {
   "cell_type": "code",
   "execution_count": null,
   "metadata": {},
   "outputs": [],
   "source": [
    "#just run this cell - we have some missing data we need to drop\n",
    "df_2017 = df_2017.dropna()"
   ]
  },
  {
   "cell_type": "code",
   "execution_count": null,
   "metadata": {},
   "outputs": [],
   "source": [
    "# Let's take a look at the data\n",
    "df_2017.head()"
   ]
  },
  {
   "cell_type": "markdown",
   "metadata": {},
   "source": [
    "###  Take a look at the first five rows of data\n",
    "\n",
    "Which census tract has the highest, or worst, redlining grade?  What do you notice about the characteristics of that tract? "
   ]
  },
  {
   "cell_type": "markdown",
   "metadata": {},
   "source": [
    "### Correlation\n",
    "\n",
    "So even looking at 5 census tracts, we can see that there is a relationship between a higher (worse) redlining score and the poverty rate, even 60 years later.  But maybe this was just a coincidence.  We are going to calculate a \"correlation\" statistic for all the census tracts in Oakland that will let us compare the relationships more scientifically.\n",
    "\n",
    "Simply, a correlation statistic tells us the direction and strength of the relationship between two variables.  We're going to create a \"widget\" that lets us easily compare the redlining grade with different census tract characteristics in 1990 and 2017.  \n",
    "\n",
    "Go ahead and run the next two cells."
   ]
  },
  {
   "cell_type": "code",
   "execution_count": null,
   "metadata": {},
   "outputs": [],
   "source": [
    "# widget imports \n",
    "# import the widgets module\n",
    "import ipywidgets as widgets\n",
    "from ipywidgets import interact, interactive, fixed, interact_manual\n",
    "from IPython.display import display"
   ]
  },
  {
   "cell_type": "code",
   "execution_count": null,
   "metadata": {},
   "outputs": [],
   "source": [
    "def f(a, b):\n",
    "    # Polynomial best fit line.\n",
    "    df_2017_fit = np.polyfit(df_2017[a],df_2017[b],1)\n",
    "\n",
    "    # Scatter plots.\n",
    "    ax1= df_2017.plot(kind='scatter', x=a,y=b, color='blue',alpha=0.5, figsize=(12,6))\n",
    "\n",
    "    # Regression lines.\n",
    "    plt.plot(df_2017[a],df_2017_fit[0]*df_2017[a]+df_2017_fit[1], color='darkblue', linewidth=2)\n",
    "\n",
    "    # Regression equations.\n",
    "    x_text = max(df_2017[a])\n",
    "    y_text = min(df_2017[b])\n",
    "    plt.text(x_text,y_text,'y={:.2f}+{:.2f}*x'.format(df_2017_fit[1],df_2017_fit[0]),color='darkgreen',size=12, horizontalalignment='right',\n",
    "         verticalalignment='top')\n",
    "\n",
    "    # Legend, title and labels.\n",
    "    plt.legend(labels=['DF_2017'+'Regression Line','DF_2017'])\n",
    "    plt.title('Relationship between '+ a + ' and ' + b, size=18)\n",
    "    plt.xlabel(a, size=12)\n",
    "    plt.ylabel(b, size=12);\n",
    "    corr = df_2017.corr()[a][b]\n",
    "    print('Correlation: ',corr)\n",
    "    \n",
    "display(widgets.interactive(f, a=df_2017.columns.tolist(),b=df_2017.columns.tolist()))"
   ]
  },
  {
   "cell_type": "markdown",
   "metadata": {},
   "source": [
    "###  Comparing the Redlining Grade with the Poverty Rate in 2017\n",
    "\n",
    "Put \"Redlining Grade\" in the a box and \"Poverty Rate 2017\" in the b box.  How can we interpret the results?  The correlation is a positive .40909, and the line slopes upwards.  This shows that as a census tract's redlining grade gets worse (with 4 being \"redlined\"), the poverty rate goes up.  A correlation coefficient of .4 is considered a \"strong\" correlation (anything above a .3 is very meaningful).\n",
    "\n",
    "How about \"Redlining Grade\" correlated with the Percent BA Degree or Higher in 2017.  This time we get a negative correlation coefficient: -0.4173.  This means that there is a negative relationship between a tract's redlining grade and the percent of the population that has a BA - in other words, tracts that were redlined have fewer residents who have completed their BA degree."
   ]
  },
  {
   "cell_type": "markdown",
   "metadata": {},
   "source": [
    "### Gentrification\n",
    "\n",
    "The dataset also includes a numeric \"risk\" score for gentrification, based on the gentrification maps produced by the Urban Displacement Project.  A higher number means the neighborhood is at higher risk of gentrification.  "
   ]
  },
  {
   "cell_type": "markdown",
   "metadata": {},
   "source": [
    "## 4.0 Map the Indicators\n",
    "\n",
    "Now that we're in Python, it becomes pretty easy to make maps of Oakland using the indicators in our dataset.  Feel free to make some maps of the indicators you explored above!"
   ]
  },
  {
   "cell_type": "code",
   "execution_count": null,
   "metadata": {},
   "outputs": [],
   "source": [
    "#  Just run this cell\n",
    "\n",
    "tracts_gdf = geopandas.read_file('Oakland_Tracts.shp')\n",
    "merged_gdf=tracts_gdf.set_index(\"GEOID_2\").join(df_2017.set_index(\"Census Tract\"))"
   ]
  },
  {
   "cell_type": "code",
   "execution_count": null,
   "metadata": {},
   "outputs": [],
   "source": [
    "# Run this to get a list of variables in the data\n",
    "df_2017.columns"
   ]
  },
  {
   "cell_type": "code",
   "execution_count": null,
   "metadata": {},
   "outputs": [],
   "source": [
    "# This cell draws the map - just change the text in red after \"column=\" and what you want the title to be to change the indicator being mapped\n",
    "\n",
    "figure, ax = plt.subplots(figsize=(14,10))\n",
    "ax = merged_gdf.plot(column=\"Poverty Rate 2017\", legend=True, ax=ax, cmap=\"Blues\")\n",
    "lims=plt.axis(\"equal\") \n",
    "ax.set_axis_off()\n",
    "ax.set_title('Poverty Rate 2017', fontdict= \n",
    "            {'fontsize':25})\n",
    "plt.show()"
   ]
  },
  {
   "cell_type": "markdown",
   "metadata": {},
   "source": [
    "## 5.0 Bonus Material: Exploring Similar Data for Other Cities\n",
    "\n",
    "This <a href=\"https://www.wenfeixu.com/redliningmap/\">link</a> takes you to a website where Wen Feixu has developed similar analysis for all cities with redlining maps.  Feel free to explore a different city!"
   ]
  },
  {
   "cell_type": "markdown",
   "metadata": {},
   "source": [
    "# 6.0  Resetting the Python Notebook\n",
    "\n",
    "If you want to run through the notebook again on your own, just click on the link in bCourses, and then when you start the session, select \"Kernel\" from the menu above, and then select \"Restart & Clear Output\".  This will give you a \"refreshed\" version of the notebook.  Just don't forget that you need to run the cells in order that they're presented in the notebook!"
   ]
  }
 ],
 "metadata": {
  "history": [
   {
    "code": "#Importing Utilities\n#These are all pre-written Python packages that we will be using to read in, clean, analyze, and model our data.\nimport os\nimport re\nimport geojson\nimport folium\nimport math\nimport geopandas as gpd\nimport json\nimport matplotlib as mpl\nimport pylab as plt\nimport pandas as pd\nimport numpy as np\nimport seaborn as sns\nimport matplotlib.pyplot as plt\nimport ipywidgets as widgets\nimport geopandas as gpd\nfrom IPython.display import IFrame\nplt.style.use('fivethirtyeight')\n# import ipywidgets as widgets\n%matplotlib inline\npd.options.display.float_format = '{:.2f}'.format",
    "id": "7540e93f92bf49f9b24e59332081a0ba",
    "idx": 6,
    "time": "2021-02-07T19:53:32.177Z",
    "type": "execution"
   },
   {
    "id": "7540e93f92bf49f9b24e59332081a0ba",
    "time": "2021-02-07T19:53:32.430Z",
    "type": "completion"
   },
   {
    "code": "#Importing Utilities\n#These are all pre-written Python packages that we will be using to read in, clean, analyze, and model our data.\nimport os\nimport re\nimport folium\nimport math\nimport geopandas as gpd\nimport json\nimport matplotlib as mpl\nimport pylab as plt\nimport pandas as pd\nimport numpy as np\nimport seaborn as sns\nimport matplotlib.pyplot as plt\nimport ipywidgets as widgets\nimport geopandas as gpd\nfrom IPython.display import IFrame\nplt.style.use('fivethirtyeight')\n# import ipywidgets as widgets\n%matplotlib inline\npd.options.display.float_format = '{:.2f}'.format",
    "id": "7540e93f92bf49f9b24e59332081a0ba",
    "idx": 6,
    "time": "2021-02-07T19:54:13.185Z",
    "type": "execution"
   },
   {
    "id": "7540e93f92bf49f9b24e59332081a0ba",
    "time": "2021-02-07T19:54:14.728Z",
    "type": "completion"
   },
   {
    "code": "#Importing Utilities\n#These are all pre-written Python packages that we will be using to read in, clean, analyze, and model our data.\nimport os\nimport re\nimport geojson\nimport folium\nimport math\nimport geopandas as gpd\nimport json\nimport matplotlib as mpl\nimport pylab as plt\nimport pandas as pd\nimport numpy as np\nimport seaborn as sns\nimport matplotlib.pyplot as plt\nimport ipywidgets as widgets\nimport geopandas as gpd\nfrom IPython.display import IFrame\nplt.style.use('fivethirtyeight')\n# import ipywidgets as widgets\n%matplotlib inline\npd.options.display.float_format = '{:.2f}'.format",
    "id": "7540e93f92bf49f9b24e59332081a0ba",
    "idx": 6,
    "time": "2021-02-07T19:55:47.009Z",
    "type": "execution"
   },
   {
    "id": "7540e93f92bf49f9b24e59332081a0ba",
    "time": "2021-02-07T19:55:47.210Z",
    "type": "completion"
   },
   {
    "code": "pip install geojson",
    "id": "bc36017be6a5479fb96afb8706521212",
    "idx": 6,
    "time": "2021-02-07T19:56:13.792Z",
    "type": "execution"
   },
   {
    "id": "bc36017be6a5479fb96afb8706521212",
    "time": "2021-02-07T19:56:18.872Z",
    "type": "completion"
   },
   {
    "code": "#Importing Utilities\n#These are all pre-written Python packages that we will be using to read in, clean, analyze, and model our data.\nimport os\nimport re\nimport geojson\nimport folium\nimport math\nimport geopandas as gpd\nimport json\nimport matplotlib as mpl\nimport pylab as plt\nimport pandas as pd\nimport numpy as np\nimport seaborn as sns\nimport matplotlib.pyplot as plt\nimport ipywidgets as widgets\nimport geopandas as gpd\nfrom IPython.display import IFrame\nplt.style.use('fivethirtyeight')\n# import ipywidgets as widgets\n%matplotlib inline\npd.options.display.float_format = '{:.2f}'.format",
    "id": "7540e93f92bf49f9b24e59332081a0ba",
    "idx": 7,
    "time": "2021-02-07T19:56:23.592Z",
    "type": "execution"
   },
   {
    "id": "7540e93f92bf49f9b24e59332081a0ba",
    "time": "2021-02-07T19:56:23.853Z",
    "type": "completion"
   },
   {
    "code": "pip install geopandas",
    "id": "83e69a198ae04cffb50c475bd259f5e9",
    "idx": 7,
    "time": "2021-02-07T19:59:34.688Z",
    "type": "execution"
   },
   {
    "id": "83e69a198ae04cffb50c475bd259f5e9",
    "time": "2021-02-07T19:59:39.044Z",
    "type": "completion"
   },
   {
    "code": "#Importing Utilities\n#These are all pre-written Python packages that we will be using to read in, clean, analyze, and model our data.\nimport os\nimport re\nimport geojson\nimport folium\nimport math\nimport geopandas as gpd\nimport json\nimport matplotlib as mpl\nimport pylab as plt\nimport pandas as pd\nimport numpy as np\nimport seaborn as sns\nimport matplotlib.pyplot as plt\nimport ipywidgets as widgets\nimport geopandas as gpd\nfrom IPython.display import IFrame\nplt.style.use('fivethirtyeight')\n# import ipywidgets as widgets\n%matplotlib inline\npd.options.display.float_format = '{:.2f}'.format",
    "id": "7540e93f92bf49f9b24e59332081a0ba",
    "idx": 8,
    "time": "2021-02-07T19:59:40.944Z",
    "type": "execution"
   },
   {
    "id": "7540e93f92bf49f9b24e59332081a0ba",
    "time": "2021-02-07T19:59:41.184Z",
    "type": "completion"
   },
   {
    "code": "#Importing Utilities\n#These are all pre-written Python packages that we will be using to read in, clean, analyze, and model our data.\nimport os\nimport re\nimport geojson\nimport folium\nimport math\nimport geopandas as gpd\nimport json\nimport matplotlib as mpl\nimport pylab as plt\nimport pandas as pd\nimport numpy as np\nimport seaborn as sns\nimport matplotlib.pyplot as plt\nimport ipywidgets as widgets\nimport geopandas as gpd\nfrom IPython.display import IFrame\nplt.style.use('fivethirtyeight')\n# import ipywidgets as widgets\n%matplotlib inline\npd.options.display.float_format = '{:.2f}'.format",
    "id": "7540e93f92bf49f9b24e59332081a0ba",
    "idx": 8,
    "time": "2021-02-07T20:00:02.968Z",
    "type": "execution"
   },
   {
    "id": "7540e93f92bf49f9b24e59332081a0ba",
    "time": "2021-02-07T20:00:04.488Z",
    "type": "completion"
   },
   {
    "code": "%%capture\n!python -m spacy download en\n!pip install --no-cache-dir wordcloud\n!pip3 install --no-cache-dir -U folium\n!pip install --no-cache-dir textblob\nfrom datascience import *\nimport numpy as np\nimport matplotlib.pyplot as plt\nfrom ipywidgets import *\n%matplotlib inline\nimport folium\nimport pandas as pd\nfrom IPython.display import HTML, display, IFrame\nimport folium\nimport spacy\nfrom wordcloud import WordCloud\nfrom textblob import TextBlob\nimport geojson",
    "id": "d68165bb5e1e49b3a98a5d80f478704e",
    "idx": 6,
    "time": "2021-02-07T20:08:00.255Z",
    "type": "execution"
   },
   {
    "id": "d68165bb5e1e49b3a98a5d80f478704e",
    "time": "2021-02-07T20:08:22.870Z",
    "type": "completion"
   },
   {
    "code": "#Importing Utilities\n#These are all pre-written Python packages that we will be using to read in, clean, analyze, and model our data.\nimport os\nimport re\nimport geojson\nimport folium\nimport math\nimport geopandas as gpd\nimport json\nimport matplotlib as mpl\nimport pylab as plt\nimport pandas as pd\nimport numpy as np\nimport seaborn as sns\nimport matplotlib.pyplot as plt\nimport ipywidgets as widgets\nimport geopandas as gpd\nfrom IPython.display import IFrame\nplt.style.use('fivethirtyeight')\n# import ipywidgets as widgets\n%matplotlib inline\npd.options.display.float_format = '{:.2f}'.format",
    "id": "7540e93f92bf49f9b24e59332081a0ba",
    "idx": 7,
    "time": "2021-02-07T20:08:30.167Z",
    "type": "execution"
   },
   {
    "id": "7540e93f92bf49f9b24e59332081a0ba",
    "time": "2021-02-07T20:08:30.770Z",
    "type": "completion"
   },
   {
    "code": "#This cell imports the map file for Oakland\n\ngeo_json_data = json.load(open('CAOakland1937.geojson'))",
    "id": "5df1a90bac8e461f8ef8ebb33fbda28f",
    "idx": 9,
    "time": "2021-02-07T20:08:41.088Z",
    "type": "execution"
   },
   {
    "id": "5df1a90bac8e461f8ef8ebb33fbda28f",
    "time": "2021-02-07T20:08:41.289Z",
    "type": "completion"
   },
   {
    "code": "#Importing Utilities\n#These are all pre-written Python packages that we will be using to read in, clean, analyze, and model our data.\npip install geojson \nimport os\nimport re\nimport geojson\nimport folium\nimport math\nimport geopandas as gpd\nimport json\nimport matplotlib as mpl\nimport pylab as plt\nimport pandas as pd\nimport numpy as np\nimport seaborn as sns\nimport matplotlib.pyplot as plt\nimport ipywidgets as widgets\nimport geopandas as gpd\nfrom IPython.display import IFrame\nplt.style.use('fivethirtyeight')\n# import ipywidgets as widgets\n%matplotlib inline\npd.options.display.float_format = '{:.2f}'.format",
    "id": "7540e93f92bf49f9b24e59332081a0ba",
    "idx": 6,
    "time": "2021-02-07T20:14:09.217Z",
    "type": "execution"
   },
   {
    "id": "7540e93f92bf49f9b24e59332081a0ba",
    "time": "2021-02-07T20:14:09.387Z",
    "type": "completion"
   },
   {
    "code": "pip install geojson",
    "id": "906ce9472b494d25b0757e32778f12b0",
    "idx": 6,
    "time": "2021-02-07T20:14:27.015Z",
    "type": "execution"
   },
   {
    "id": "906ce9472b494d25b0757e32778f12b0",
    "time": "2021-02-07T20:14:31.423Z",
    "type": "completion"
   },
   {
    "code": "#Importing Utilities\n#These are all pre-written Python packages that we will be using to read in, clean, analyze, and model our data.\nimport os\nimport re\nimport geojson\nimport folium\nimport math\nimport geopandas as gpd\nimport json\nimport matplotlib as mpl\nimport pylab as plt\nimport pandas as pd\nimport numpy as np\nimport seaborn as sns\nimport matplotlib.pyplot as plt\nimport ipywidgets as widgets\nimport geopandas as gpd\nfrom IPython.display import IFrame\nplt.style.use('fivethirtyeight')\n# import ipywidgets as widgets\n%matplotlib inline\npd.options.display.float_format = '{:.2f}'.format",
    "id": "7540e93f92bf49f9b24e59332081a0ba",
    "idx": 7,
    "time": "2021-02-07T20:14:34.822Z",
    "type": "execution"
   },
   {
    "id": "7540e93f92bf49f9b24e59332081a0ba",
    "time": "2021-02-07T20:14:35.088Z",
    "type": "completion"
   },
   {
    "code": "pip install geopandas",
    "id": "e8b4610c1c0b4c839bd2b874153586d6",
    "idx": 6,
    "time": "2021-02-07T20:15:26.863Z",
    "type": "execution"
   },
   {
    "id": "e8b4610c1c0b4c839bd2b874153586d6",
    "time": "2021-02-07T20:15:31.161Z",
    "type": "completion"
   },
   {
    "code": "pip install geojson",
    "id": "906ce9472b494d25b0757e32778f12b0",
    "idx": 7,
    "time": "2021-02-07T20:15:33.071Z",
    "type": "execution"
   },
   {
    "code": "#Importing Utilities\n#These are all pre-written Python packages that we will be using to read in, clean, analyze, and model our data.\nimport os\nimport re\nimport geojson\nimport folium\nimport math\nimport geopandas as gpd\nimport json\nimport matplotlib as mpl\nimport pylab as plt\nimport pandas as pd\nimport numpy as np\nimport seaborn as sns\nimport matplotlib.pyplot as plt\nimport ipywidgets as widgets\nfrom IPython.display import IFrame\nplt.style.use('fivethirtyeight')\n# import ipywidgets as widgets\n%matplotlib inline\npd.options.display.float_format = '{:.2f}'.format",
    "id": "7540e93f92bf49f9b24e59332081a0ba",
    "idx": 8,
    "time": "2021-02-07T20:15:36.856Z",
    "type": "execution"
   },
   {
    "id": "906ce9472b494d25b0757e32778f12b0",
    "time": "2021-02-07T20:15:37.330Z",
    "type": "completion"
   },
   {
    "id": "7540e93f92bf49f9b24e59332081a0ba",
    "time": "2021-02-07T20:15:37.417Z",
    "type": "completion"
   },
   {
    "code": "#Importing Utilities\n#These are all pre-written Python packages that we will be using to read in, clean, analyze, and model our data.\nimport os\nimport re\nimport geojson\nimport folium\nimport math\nimport geopandas\nimport json\nimport matplotlib as mpl\nimport pylab as plt\nimport pandas as pd\nimport numpy as np\nimport seaborn as sns\nimport matplotlib.pyplot as plt\nimport ipywidgets as widgets\nfrom IPython.display import IFrame\nplt.style.use('fivethirtyeight')\n# import ipywidgets as widgets\n%matplotlib inline\npd.options.display.float_format = '{:.2f}'.format",
    "id": "7540e93f92bf49f9b24e59332081a0ba",
    "idx": 8,
    "time": "2021-02-07T20:15:59.647Z",
    "type": "execution"
   },
   {
    "id": "7540e93f92bf49f9b24e59332081a0ba",
    "time": "2021-02-07T20:15:59.860Z",
    "type": "completion"
   },
   {
    "code": "#This cell imports the map file for Oakland\n\ngeo_json_data = json.load(open('CAOakland1937.geojson'))",
    "id": "5df1a90bac8e461f8ef8ebb33fbda28f",
    "idx": 10,
    "time": "2021-02-07T20:16:31.967Z",
    "type": "execution"
   },
   {
    "id": "5df1a90bac8e461f8ef8ebb33fbda28f",
    "time": "2021-02-07T20:16:32.147Z",
    "type": "completion"
   },
   {
    "code": "#Importing Utilities\n#These are all pre-written Python packages that we will be using to read in, clean, analyze, and model our data.\nimport os\nimport re\nimport geojson\nimport folium\nimport math\nimport geopandas\nimport json as json\nimport matplotlib as mpl\nimport pylab as plt\nimport pandas as pd\nimport numpy as np\nimport seaborn as sns\nimport matplotlib.pyplot as plt\nimport ipywidgets as widgets\nfrom IPython.display import IFrame\nplt.style.use('fivethirtyeight')\n# import ipywidgets as widgets\n%matplotlib inline\npd.options.display.float_format = '{:.2f}'.format",
    "id": "7540e93f92bf49f9b24e59332081a0ba",
    "idx": 8,
    "time": "2021-02-07T20:16:49.727Z",
    "type": "execution"
   },
   {
    "id": "7540e93f92bf49f9b24e59332081a0ba",
    "time": "2021-02-07T20:16:49.972Z",
    "type": "completion"
   },
   {
    "code": "#Importing Utilities\n#These are all pre-written Python packages that we will be using to read in, clean, analyze, and model our data.\nimport os\nimport re\nimport geojson\nimport folium\nimport math\nimport json as json\nimport matplotlib as mpl\nimport pylab as plt\nimport pandas as pd\nimport numpy as np\nimport seaborn as sns\nimport matplotlib.pyplot as plt\nimport ipywidgets as widgets\nfrom IPython.display import IFrame\nplt.style.use('fivethirtyeight')\n# import ipywidgets as widgets\n%matplotlib inline\npd.options.display.float_format = '{:.2f}'.format",
    "id": "7540e93f92bf49f9b24e59332081a0ba",
    "idx": 8,
    "time": "2021-02-07T20:16:56.679Z",
    "type": "execution"
   },
   {
    "id": "7540e93f92bf49f9b24e59332081a0ba",
    "time": "2021-02-07T20:16:56.881Z",
    "type": "completion"
   },
   {
    "code": "#This cell imports the map file for Oakland\n\ngeo_json_data = json.load(open('CAOakland1937.geojson'))",
    "id": "5df1a90bac8e461f8ef8ebb33fbda28f",
    "idx": 10,
    "time": "2021-02-07T20:17:00.063Z",
    "type": "execution"
   },
   {
    "id": "5df1a90bac8e461f8ef8ebb33fbda28f",
    "time": "2021-02-07T20:17:00.246Z",
    "type": "completion"
   },
   {
    "code": "# This cell assigns each of the HOLC grades a color\n\ndef my_color_function(feature):\n    if feature['properties']['holc_grade']== 'A':\n        return '#98ff98'\n    elif feature['properties']['holc_grade']== 'B':\n        return '#5bc0de'\n    elif feature['properties']['holc_grade'] =='C':\n        return '#ffe200'\n    else:\n        return '#ff00aa'",
    "id": "61954a6d9f48480fb848649aec0fd2fc",
    "idx": 11,
    "time": "2021-02-07T20:17:01.606Z",
    "type": "execution"
   },
   {
    "id": "61954a6d9f48480fb848649aec0fd2fc",
    "time": "2021-02-07T20:17:01.766Z",
    "type": "completion"
   },
   {
    "code": "#  This cell draws the map, including the coordinates for Oakland\nm = folium.Map([37.8044,-122.271], tiles='cartodbpositron', zoom_start=12)\nfolium.GeoJson(\n    geo_json_data,\n        style_function=lambda feature: {\n        'fillColor': my_color_function(feature),\n        'color' : 'black',\n        'weight' : 1,   \n        }\n    ).add_to(m)\nm",
    "id": "a10c37ea764f46c88568fce1ea88316e",
    "idx": 12,
    "time": "2021-02-07T20:17:02.942Z",
    "type": "execution"
   },
   {
    "id": "a10c37ea764f46c88568fce1ea88316e",
    "time": "2021-02-07T20:17:04.360Z",
    "type": "completion"
   },
   {
    "code": "#  First, we're going to read in data that Carolina pulled from Policy Map\n!pip install xlrd\ndf_2017 = pd.read_excel('Oakland_1990_2017_Data.xlsx', dtype={\"Census Tract\":str})",
    "id": "f651b5f98062402d908353a47120a35e",
    "idx": 14,
    "time": "2021-02-07T20:17:20.162Z",
    "type": "execution"
   },
   {
    "code": "# Let's take a look at the data\ndf_2017.head()",
    "id": "975a31657bdf457c88ddb4861f289066",
    "idx": 15,
    "time": "2021-02-07T20:17:23.457Z",
    "type": "execution"
   },
   {
    "id": "f651b5f98062402d908353a47120a35e",
    "time": "2021-02-07T20:17:24.877Z",
    "type": "completion"
   },
   {
    "id": "975a31657bdf457c88ddb4861f289066",
    "time": "2021-02-07T20:17:24.926Z",
    "type": "completion"
   },
   {
    "code": "# widget imports \n# import the widgets module\nimport ipywidgets as widgets\nfrom ipywidgets import interact, interactive, fixed, interact_manual\nfrom IPython.display import display",
    "id": "fdbb8538b6454877b8433184c84e624d",
    "idx": 18,
    "time": "2021-02-07T20:17:32.857Z",
    "type": "execution"
   },
   {
    "id": "fdbb8538b6454877b8433184c84e624d",
    "time": "2021-02-07T20:17:33.027Z",
    "type": "completion"
   },
   {
    "code": "def f(a, b):\n    # Polynomial best fit line.\n    df_2017_fit = np.polyfit(df_2017[a],df_2017[b],1)\n\n    # Scatter plots.\n    ax1= df_2017.plot(kind='scatter', x=a,y=b, color='blue',alpha=0.5, figsize=(12,6))\n\n    # Regression lines.\n    plt.plot(df_2017[a],df_2017_fit[0]*df_2017[a]+df_2017_fit[1], color='darkblue', linewidth=2)\n\n    # Regression equations.\n    x_text = max(df_2017[a])\n    y_text = min(df_2017[b])\n    plt.text(x_text,y_text,'y={:.2f}+{:.2f}*x'.format(df_2017_fit[1],df_2017_fit[0]),color='darkgreen',size=12, horizontalalignment='right',\n         verticalalignment='top')\n\n    # Legend, title and labels.\n    plt.legend(labels=['DF_2017'+'Regression Line','DF_2017'])\n    plt.title('Relationship between '+ a + ' and ' + b, size=18)\n    plt.xlabel(a, size=12)\n    plt.ylabel(b, size=12);\n    corr = df_2017.corr()[a][b]\n    print('Correlation: ',corr)\n    \ndisplay(widgets.interactive(f, a=df_2017.columns.tolist(),b=df_2017.columns.tolist()))",
    "id": "3c6d3370d92749c6b9381f4835e8375a",
    "idx": 19,
    "time": "2021-02-07T20:17:34.225Z",
    "type": "execution"
   },
   {
    "id": "3c6d3370d92749c6b9381f4835e8375a",
    "time": "2021-02-07T20:17:34.478Z",
    "type": "completion"
   },
   {
    "code": "def f(a, b):\n    # Polynomial best fit line.\n    df_2017_fit = np.polyfit(df_2017[a],df_2017[b],1)\n\n    # Scatter plots.\n    ax1= df_2017.plot(kind='scatter', x=a,y=b, color='blue',alpha=0.5, figsize=(12,6))\n\n    # Regression lines.\n    plt.plot(df_2017[a],df_2017_fit[0]*df_2017[a]+df_2017_fit[1], color='darkblue', linewidth=2)\n\n    # Regression equations.\n    x_text = max(df_2017[a])\n    y_text = min(df_2017[b])\n    plt.text(x_text,y_text,'y={:.2f}+{:.2f}*x'.format(df_2017_fit[1],df_2017_fit[0]),color='darkgreen',size=12, horizontalalignment='right',\n         verticalalignment='top')\n\n    # Legend, title and labels.\n    plt.legend(labels=['DF_2017'+'Regression Line','DF_2017'])\n    plt.title('Relationship between '+ a + ' and ' + b, size=18)\n    plt.xlabel(a, size=12)\n    plt.ylabel(b, size=12);\n    corr = df_2017.corr()[a][b]\n    print('Correlation: ',corr)\n    \ndisplay(widgets.interactive(f, a=df_2017.columns.tolist(),b=df_2017.columns.tolist()))",
    "id": "3c6d3370d92749c6b9381f4835e8375a",
    "idx": 19,
    "time": "2021-02-07T20:18:06.831Z",
    "type": "execution"
   },
   {
    "id": "3c6d3370d92749c6b9381f4835e8375a",
    "time": "2021-02-07T20:18:07.082Z",
    "type": "completion"
   },
   {
    "code": "#Importing Utilities\n#These are all pre-written Python packages that we will be using to read in, clean, analyze, and model our data.\nimport geopandas as gpd\nimport os\nimport re\nimport geojson\nimport folium\nimport math\nimport json as json\nimport matplotlib as mpl\nimport pylab as plt\nimport pandas as pd\nimport numpy as np\nimport seaborn as sns\nimport matplotlib.pyplot as plt\nimport ipywidgets as widgets\nfrom IPython.display import IFrame\nplt.style.use('fivethirtyeight')\n# import ipywidgets as widgets\n%matplotlib inline\npd.options.display.float_format = '{:.2f}'.format",
    "id": "7540e93f92bf49f9b24e59332081a0ba",
    "idx": 8,
    "time": "2021-02-07T20:24:40.862Z",
    "type": "execution"
   },
   {
    "id": "7540e93f92bf49f9b24e59332081a0ba",
    "time": "2021-02-07T20:24:41.102Z",
    "type": "completion"
   },
   {
    "code": "#  Just run this cell\n\ntracts_gdf = geopandas.read_file('Oakland_Tracts.shp')\nmerged_gdf=tracts_gdf.set_index(\"GEOID_2\").join(df_2017.set_index(\"Census Tract\"))",
    "id": "dc5245438e14473bbcc515b7ec2b596f",
    "idx": 23,
    "time": "2021-02-07T20:28:50.281Z",
    "type": "execution"
   },
   {
    "id": "dc5245438e14473bbcc515b7ec2b596f",
    "time": "2021-02-07T20:28:50.441Z",
    "type": "completion"
   },
   {
    "code": "#Importing Utilities\n#These are all pre-written Python packages that we will be using to read in, clean, analyze, and model our data.\nimport geopandas\nimport os\nimport re\nimport geojson\nimport folium\nimport math\nimport json as json\nimport matplotlib as mpl\nimport pylab as plt\nimport pandas as pd\nimport numpy as np\nimport seaborn as sns\nimport matplotlib.pyplot as plt\nimport ipywidgets as widgets\nfrom IPython.display import IFrame\nplt.style.use('fivethirtyeight')\n# import ipywidgets as widgets\n%matplotlib inline\npd.options.display.float_format = '{:.2f}'.format",
    "id": "7540e93f92bf49f9b24e59332081a0ba",
    "idx": 8,
    "time": "2021-02-07T20:29:07.853Z",
    "type": "execution"
   },
   {
    "id": "7540e93f92bf49f9b24e59332081a0ba",
    "time": "2021-02-07T20:29:08.039Z",
    "type": "completion"
   },
   {
    "code": "!pip install geojson -q\n!pip install geopandas --upgrade -q",
    "id": "5e5ef475556048ba8deb2aa5fb8f06ee",
    "idx": 6,
    "time": "2021-02-09T20:30:09.070Z",
    "type": "execution"
   },
   {
    "id": "5e5ef475556048ba8deb2aa5fb8f06ee",
    "time": "2021-02-09T20:30:19.635Z",
    "type": "completion"
   },
   {
    "code": "#Importing Utilities\n#These are all pre-written Python packages that we will be using to read in, clean, analyze, and model our data.\nimport geopandas\nimport os\nimport re\nimport geojson\nimport folium\nimport math\nimport json as json\nimport matplotlib as mpl\nimport pylab as plt\nimport pandas as pd\nimport numpy as np\nimport seaborn as sns\nimport matplotlib.pyplot as plt\nimport ipywidgets as widgets\nfrom IPython.display import IFrame\nplt.style.use('fivethirtyeight')\n# import ipywidgets as widgets\n%matplotlib inline\npd.options.display.float_format = '{:.2f}'.format",
    "id": "723935411ad04ef288d0cc7ea00cb96b",
    "idx": 7,
    "time": "2021-02-09T20:30:52.718Z",
    "type": "execution"
   },
   {
    "id": "723935411ad04ef288d0cc7ea00cb96b",
    "time": "2021-02-09T20:30:55.368Z",
    "type": "completion"
   },
   {
    "code": "#This cell imports the map file for Oakland\n\ngeo_json_data = json.load(open('CAOakland1937.geojson'))",
    "id": "e537fc9ffe3948268283ffbda1a8051d",
    "idx": 9,
    "time": "2021-02-09T20:31:00.805Z",
    "type": "execution"
   },
   {
    "id": "e537fc9ffe3948268283ffbda1a8051d",
    "time": "2021-02-09T20:31:00.913Z",
    "type": "completion"
   },
   {
    "code": "# This cell assigns each of the HOLC grades a color\n\ndef my_color_function(feature):\n    if feature['properties']['holc_grade']== 'A':\n        return '#98ff98'\n    elif feature['properties']['holc_grade']== 'B':\n        return '#5bc0de'\n    elif feature['properties']['holc_grade'] =='C':\n        return '#ffe200'\n    else:\n        return '#ff00aa'",
    "id": "76ffbafb5e694f62b63f5a0c1fee0d17",
    "idx": 10,
    "time": "2021-02-09T20:31:01.980Z",
    "type": "execution"
   },
   {
    "id": "76ffbafb5e694f62b63f5a0c1fee0d17",
    "time": "2021-02-09T20:31:02.119Z",
    "type": "completion"
   },
   {
    "code": "#  This cell draws the map, including the coordinates for Oakland\nm = folium.Map([37.8044,-122.271], tiles='cartodbpositron', zoom_start=12)\nfolium.GeoJson(\n    geo_json_data,\n        style_function=lambda feature: {\n        'fillColor': my_color_function(feature),\n        'color' : 'black',\n        'weight' : 1,   \n        }\n    ).add_to(m)\nm",
    "id": "311b95a5243f4f76807a6eae222cd8bb",
    "idx": 11,
    "time": "2021-02-09T20:31:03.732Z",
    "type": "execution"
   },
   {
    "id": "311b95a5243f4f76807a6eae222cd8bb",
    "time": "2021-02-09T20:31:07.264Z",
    "type": "completion"
   },
   {
    "code": "#  First, we're going to read in data that Carolina pulled from Policy Map\n!pip install xlrd\ndf_2017 = pd.read_excel('Oakland_1990_2017_Data.xlsx', dtype={\"Census Tract\":str})",
    "id": "64a17f3500b94d328ff159c86adfbff1",
    "idx": 13,
    "time": "2021-02-09T20:31:26.061Z",
    "type": "execution"
   },
   {
    "id": "64a17f3500b94d328ff159c86adfbff1",
    "time": "2021-02-09T20:31:32.689Z",
    "type": "completion"
   },
   {
    "code": "# Let's take a look at the data\ndf_2017.head()",
    "id": "fd590f315e5840038a957a628cccc10a",
    "idx": 14,
    "time": "2021-02-09T20:31:35.508Z",
    "type": "execution"
   },
   {
    "id": "fd590f315e5840038a957a628cccc10a",
    "time": "2021-02-09T20:31:35.681Z",
    "type": "completion"
   },
   {
    "code": "# widget imports \n# import the widgets module\nimport ipywidgets as widgets\nfrom ipywidgets import interact, interactive, fixed, interact_manual\nfrom IPython.display import display",
    "id": "9694f451ecde42aa86598c24e87ee23b",
    "idx": 17,
    "time": "2021-02-09T20:31:43.245Z",
    "type": "execution"
   },
   {
    "id": "9694f451ecde42aa86598c24e87ee23b",
    "time": "2021-02-09T20:31:43.442Z",
    "type": "completion"
   },
   {
    "code": "#  First, we're going to read in data that Carolina pulled from Policy Map\n!pip install xlrd\ndf_2017 = pd.read_excel('Oakland_1990_2017_Data.xlsx', dtype={\"Census Tract\":str})\ndf_2017 = df_2017.drop([183])",
    "id": "64a17f3500b94d328ff159c86adfbff1",
    "idx": 13,
    "time": "2021-02-09T20:32:06.045Z",
    "type": "execution"
   },
   {
    "id": "64a17f3500b94d328ff159c86adfbff1",
    "time": "2021-02-09T20:32:11.198Z",
    "type": "completion"
   },
   {
    "code": "# Let's take a look at the data\ndf_2017.head()",
    "id": "fd590f315e5840038a957a628cccc10a",
    "idx": 14,
    "time": "2021-02-09T20:32:12.502Z",
    "type": "execution"
   },
   {
    "id": "fd590f315e5840038a957a628cccc10a",
    "time": "2021-02-09T20:32:12.712Z",
    "type": "completion"
   },
   {
    "code": "# widget imports \n# import the widgets module\nimport ipywidgets as widgets\nfrom ipywidgets import interact, interactive, fixed, interact_manual\nfrom IPython.display import display",
    "id": "9694f451ecde42aa86598c24e87ee23b",
    "idx": 17,
    "time": "2021-02-09T20:32:49.103Z",
    "type": "execution"
   },
   {
    "id": "9694f451ecde42aa86598c24e87ee23b",
    "time": "2021-02-09T20:32:49.176Z",
    "type": "completion"
   },
   {
    "code": "def f(a, b):\n    # Polynomial best fit line.\n    df_2017_fit = np.polyfit(df_2017[a],df_2017[b],1)\n\n    # Scatter plots.\n    ax1= df_2017.plot(kind='scatter', x=a,y=b, color='blue',alpha=0.5, figsize=(12,6))\n\n    # Regression lines.\n    plt.plot(df_2017[a],df_2017_fit[0]*df_2017[a]+df_2017_fit[1], color='darkblue', linewidth=2)\n\n    # Regression equations.\n    x_text = max(df_2017[a])\n    y_text = min(df_2017[b])\n    plt.text(x_text,y_text,'y={:.2f}+{:.2f}*x'.format(df_2017_fit[1],df_2017_fit[0]),color='darkgreen',size=12, horizontalalignment='right',\n         verticalalignment='top')\n\n    # Legend, title and labels.\n    plt.legend(labels=['DF_2017'+'Regression Line','DF_2017'])\n    plt.title('Relationship between '+ a + ' and ' + b, size=18)\n    plt.xlabel(a, size=12)\n    plt.ylabel(b, size=12);\n    corr = df_2017.corr()[a][b]\n    print('Correlation: ',corr)\n    \ndisplay(widgets.interactive(f, a=df_2017.columns.tolist(),b=df_2017.columns.tolist()))",
    "id": "ae5040f731b148c089d982220079736b",
    "idx": 18,
    "time": "2021-02-09T20:32:50.551Z",
    "type": "execution"
   },
   {
    "id": "ae5040f731b148c089d982220079736b",
    "time": "2021-02-09T20:32:51.242Z",
    "type": "completion"
   },
   {
    "code": "#  Just run this cell\n\ntracts_gdf = geopandas.read_file('Oakland_Tracts.shp')\nmerged_gdf=tracts_gdf.set_index(\"GEOID_2\").join(df_2017.set_index(\"Census Tract\"))",
    "id": "3be355f81b5e4c3c8e6e5cd152f3e726",
    "idx": 22,
    "time": "2021-02-09T20:34:31.581Z",
    "type": "execution"
   },
   {
    "id": "3be355f81b5e4c3c8e6e5cd152f3e726",
    "time": "2021-02-09T20:34:31.792Z",
    "type": "completion"
   },
   {
    "code": "# Run this to get a list of variables in the data\ndf_2017.columns",
    "id": "e5734121f4d04ad69ff34248c31a3ddd",
    "idx": 23,
    "time": "2021-02-09T20:34:32.973Z",
    "type": "execution"
   },
   {
    "id": "e5734121f4d04ad69ff34248c31a3ddd",
    "time": "2021-02-09T20:34:33.106Z",
    "type": "completion"
   },
   {
    "code": "# This cell draws the map - just change the text in red after \"column=\" and what you want the title to be to change the indicator being mapped\n\nfigure, ax = plt.subplots(figsize=(14,10))\nax = merged_gdf.plot(column=\"Poverty Rate 2017\", legend=True, ax=ax, cmap=\"Blues\")\nlims=plt.axis(\"equal\") \nax.set_axis_off()\nax.set_title('Poverty Rate 2017', fontdict= \n            {'fontsize':25})\nplt.show()",
    "id": "3c250907ee274efb90b419c558f8674a",
    "idx": 24,
    "time": "2021-02-09T20:34:35.269Z",
    "type": "execution"
   },
   {
    "id": "3c250907ee274efb90b419c558f8674a",
    "time": "2021-02-09T20:34:36.139Z",
    "type": "completion"
   },
   {
    "code": "pip install -Iv geopandas==0.8.2",
    "id": "9e81e4e7a85d406989acecbe5f70a93a",
    "idx": 6,
    "time": "2021-02-09T20:36:13.228Z",
    "type": "execution"
   },
   {
    "code": "#Importing Utilities\n#These are all pre-written Python packages that we will be using to read in, clean, analyze, and model our data.\nimport geopandas\nimport os\nimport re\nimport geojson\nimport folium\nimport math\nimport json as json\nimport matplotlib as mpl\nimport pylab as plt\nimport pandas as pd\nimport numpy as np\nimport seaborn as sns\nimport matplotlib.pyplot as plt\nimport ipywidgets as widgets\nfrom IPython.display import IFrame\nplt.style.use('fivethirtyeight')\n# import ipywidgets as widgets\n%matplotlib inline\npd.options.display.float_format = '{:.2f}'.format",
    "id": "723935411ad04ef288d0cc7ea00cb96b",
    "idx": 8,
    "time": "2021-02-09T20:36:25.878Z",
    "type": "execution"
   },
   {
    "id": "9e81e4e7a85d406989acecbe5f70a93a",
    "time": "2021-02-09T20:36:35.079Z",
    "type": "completion"
   },
   {
    "id": "723935411ad04ef288d0cc7ea00cb96b",
    "time": "2021-02-09T20:36:37.169Z",
    "type": "completion"
   },
   {
    "code": "#This cell imports the map file for Oakland\n\ngeo_json_data = json.load(open('CAOakland1937.geojson'))",
    "id": "e537fc9ffe3948268283ffbda1a8051d",
    "idx": 10,
    "time": "2021-02-09T20:36:55.885Z",
    "type": "execution"
   },
   {
    "id": "e537fc9ffe3948268283ffbda1a8051d",
    "time": "2021-02-09T20:36:55.963Z",
    "type": "completion"
   },
   {
    "code": "# This cell assigns each of the HOLC grades a color\n\ndef my_color_function(feature):\n    if feature['properties']['holc_grade']== 'A':\n        return '#98ff98'\n    elif feature['properties']['holc_grade']== 'B':\n        return '#5bc0de'\n    elif feature['properties']['holc_grade'] =='C':\n        return '#ffe200'\n    else:\n        return '#ff00aa'",
    "id": "76ffbafb5e694f62b63f5a0c1fee0d17",
    "idx": 11,
    "time": "2021-02-09T20:36:56.700Z",
    "type": "execution"
   },
   {
    "id": "76ffbafb5e694f62b63f5a0c1fee0d17",
    "time": "2021-02-09T20:36:56.772Z",
    "type": "completion"
   },
   {
    "code": "#  This cell draws the map, including the coordinates for Oakland\nm = folium.Map([37.8044,-122.271], tiles='cartodbpositron', zoom_start=12)\nfolium.GeoJson(\n    geo_json_data,\n        style_function=lambda feature: {\n        'fillColor': my_color_function(feature),\n        'color' : 'black',\n        'weight' : 1,   \n        }\n    ).add_to(m)\nm",
    "id": "311b95a5243f4f76807a6eae222cd8bb",
    "idx": 12,
    "time": "2021-02-09T20:36:57.556Z",
    "type": "execution"
   },
   {
    "id": "311b95a5243f4f76807a6eae222cd8bb",
    "time": "2021-02-09T20:36:58.251Z",
    "type": "completion"
   },
   {
    "code": "#  Just run this cell\n\ntracts_gdf = geopandas.read_file('Oakland_Tracts.shp')\nmerged_gdf=tracts_gdf.set_index(\"GEOID_2\").join(df_2017.set_index(\"Census Tract\"))",
    "id": "3be355f81b5e4c3c8e6e5cd152f3e726",
    "idx": 23,
    "time": "2021-02-09T20:37:07.900Z",
    "type": "execution"
   },
   {
    "id": "3be355f81b5e4c3c8e6e5cd152f3e726",
    "time": "2021-02-09T20:37:08.248Z",
    "type": "completion"
   },
   {
    "code": "#  First, we're going to read in data that Carolina pulled from Policy Map\n!pip install xlrd\ndf_2017 = pd.read_excel('Oakland_1990_2017_Data.xlsx', dtype={\"Census Tract\":str})\ndf_2017 = df_2017.drop([183])",
    "id": "64a17f3500b94d328ff159c86adfbff1",
    "idx": 14,
    "time": "2021-02-09T20:37:15.237Z",
    "type": "execution"
   },
   {
    "id": "64a17f3500b94d328ff159c86adfbff1",
    "time": "2021-02-09T20:37:20.466Z",
    "type": "completion"
   },
   {
    "code": "pip install geojson -q",
    "id": "5e5ef475556048ba8deb2aa5fb8f06ee",
    "idx": 7,
    "time": "2021-02-09T20:38:20.665Z",
    "type": "execution"
   },
   {
    "id": "5e5ef475556048ba8deb2aa5fb8f06ee",
    "time": "2021-02-09T20:38:25.975Z",
    "type": "completion"
   },
   {
    "code": "#Importing Utilities\n#These are all pre-written Python packages that we will be using to read in, clean, analyze, and model our data.\nimport geopandas\nimport os\nimport re\nimport geojson\nimport folium\nimport math\nimport json as json\nimport matplotlib as mpl\nimport pylab as plt\nimport pandas as pd\nimport numpy as np\nimport seaborn as sns\nimport matplotlib.pyplot as plt\nimport ipywidgets as widgets\nfrom IPython.display import IFrame\nplt.style.use('fivethirtyeight')\n# import ipywidgets as widgets\n%matplotlib inline\npd.options.display.float_format = '{:.2f}'.format\n\nimport warnings\n\nwarnings.filterwarnings('ignore')",
    "id": "723935411ad04ef288d0cc7ea00cb96b",
    "idx": 8,
    "time": "2021-02-09T20:39:22.933Z",
    "type": "execution"
   },
   {
    "id": "723935411ad04ef288d0cc7ea00cb96b",
    "time": "2021-02-09T20:39:23.046Z",
    "type": "completion"
   },
   {
    "code": "pip install -Iv geopandas==0.8.2",
    "id": "9e81e4e7a85d406989acecbe5f70a93a",
    "idx": 6,
    "time": "2021-02-09T20:39:52.052Z",
    "type": "execution"
   },
   {
    "code": "pip install geojson -q",
    "id": "5e5ef475556048ba8deb2aa5fb8f06ee",
    "idx": 7,
    "time": "2021-02-09T20:40:00.973Z",
    "type": "execution"
   },
   {
    "id": "9e81e4e7a85d406989acecbe5f70a93a",
    "time": "2021-02-09T20:40:11.875Z",
    "type": "completion"
   },
   {
    "id": "5e5ef475556048ba8deb2aa5fb8f06ee",
    "time": "2021-02-09T20:40:16.362Z",
    "type": "completion"
   },
   {
    "code": "#Importing Utilities\n#These are all pre-written Python packages that we will be using to read in, clean, analyze, and model our data.\nimport geopandas\nimport os\nimport re\nimport geojson\nimport folium\nimport math\nimport json as json\nimport matplotlib as mpl\nimport pylab as plt\nimport pandas as pd\nimport numpy as np\nimport seaborn as sns\nimport matplotlib.pyplot as plt\nimport ipywidgets as widgets\nfrom IPython.display import IFrame\nplt.style.use('fivethirtyeight')\n# import ipywidgets as widgets\n%matplotlib inline\npd.options.display.float_format = '{:.2f}'.format\n\nimport warnings\n\nwarnings.filterwarnings('ignore')",
    "id": "723935411ad04ef288d0cc7ea00cb96b",
    "idx": 8,
    "time": "2021-02-09T20:40:19.117Z",
    "type": "execution"
   },
   {
    "id": "723935411ad04ef288d0cc7ea00cb96b",
    "time": "2021-02-09T20:40:21.611Z",
    "type": "completion"
   },
   {
    "code": "import warnings\nwarnings.filterwarnings('ignore')",
    "id": "fbf34c670e454ec28707e5ebe69df2e7",
    "idx": 6,
    "time": "2021-02-09T20:40:55.012Z",
    "type": "execution"
   },
   {
    "id": "fbf34c670e454ec28707e5ebe69df2e7",
    "time": "2021-02-09T20:40:55.088Z",
    "type": "completion"
   },
   {
    "code": "pip install -Iv geopandas==0.8.2",
    "id": "9e81e4e7a85d406989acecbe5f70a93a",
    "idx": 7,
    "time": "2021-02-09T20:40:56.452Z",
    "type": "execution"
   },
   {
    "id": "9e81e4e7a85d406989acecbe5f70a93a",
    "time": "2021-02-09T20:41:17.020Z",
    "type": "completion"
   },
   {
    "code": "pip install geojson -q",
    "id": "5e5ef475556048ba8deb2aa5fb8f06ee",
    "idx": 8,
    "time": "2021-02-09T20:41:23.957Z",
    "type": "execution"
   },
   {
    "id": "5e5ef475556048ba8deb2aa5fb8f06ee",
    "time": "2021-02-09T20:41:29.270Z",
    "type": "completion"
   },
   {
    "code": "#Importing Utilities\n#These are all pre-written Python packages that we will be using to read in, clean, analyze, and model our data.\nimport geopandas\nimport os\nimport re\nimport geojson\nimport folium\nimport math\nimport json as json\nimport matplotlib as mpl\nimport pylab as plt\nimport pandas as pd\nimport numpy as np\nimport seaborn as sns\nimport matplotlib.pyplot as plt\nimport ipywidgets as widgets\nfrom IPython.display import IFrame\nplt.style.use('fivethirtyeight')\n# import ipywidgets as widgets\n%matplotlib inline\npd.options.display.float_format = '{:.2f}'.format\n\n",
    "id": "723935411ad04ef288d0cc7ea00cb96b",
    "idx": 9,
    "time": "2021-02-09T20:41:30.772Z",
    "type": "execution"
   },
   {
    "id": "723935411ad04ef288d0cc7ea00cb96b",
    "time": "2021-02-09T20:41:33.464Z",
    "type": "completion"
   },
   {
    "code": "#This cell imports the map file for Oakland\n\ngeo_json_data = json.load(open('CAOakland1937.geojson'))",
    "id": "e537fc9ffe3948268283ffbda1a8051d",
    "idx": 11,
    "time": "2021-02-09T20:41:34.356Z",
    "type": "execution"
   },
   {
    "id": "e537fc9ffe3948268283ffbda1a8051d",
    "time": "2021-02-09T20:41:34.488Z",
    "type": "completion"
   },
   {
    "code": "# This cell assigns each of the HOLC grades a color\n\ndef my_color_function(feature):\n    if feature['properties']['holc_grade']== 'A':\n        return '#98ff98'\n    elif feature['properties']['holc_grade']== 'B':\n        return '#5bc0de'\n    elif feature['properties']['holc_grade'] =='C':\n        return '#ffe200'\n    else:\n        return '#ff00aa'",
    "id": "76ffbafb5e694f62b63f5a0c1fee0d17",
    "idx": 12,
    "time": "2021-02-09T20:41:35.436Z",
    "type": "execution"
   },
   {
    "id": "76ffbafb5e694f62b63f5a0c1fee0d17",
    "time": "2021-02-09T20:41:35.519Z",
    "type": "completion"
   },
   {
    "code": "#  This cell draws the map, including the coordinates for Oakland\nm = folium.Map([37.8044,-122.271], tiles='cartodbpositron', zoom_start=12)\nfolium.GeoJson(\n    geo_json_data,\n        style_function=lambda feature: {\n        'fillColor': my_color_function(feature),\n        'color' : 'black',\n        'weight' : 1,   \n        }\n    ).add_to(m)\nm",
    "id": "311b95a5243f4f76807a6eae222cd8bb",
    "idx": 13,
    "time": "2021-02-09T20:41:36.685Z",
    "type": "execution"
   },
   {
    "id": "311b95a5243f4f76807a6eae222cd8bb",
    "time": "2021-02-09T20:41:37.585Z",
    "type": "completion"
   },
   {
    "code": "#  First, we're going to read in data that Carolina pulled from Policy Map\n!pip install xlrd\ndf_2017 = pd.read_excel('Oakland_1990_2017_Data.xlsx', dtype={\"Census Tract\":str})",
    "id": "64a17f3500b94d328ff159c86adfbff1",
    "idx": 15,
    "time": "2021-02-09T20:41:45.317Z",
    "type": "execution"
   },
   {
    "id": "64a17f3500b94d328ff159c86adfbff1",
    "time": "2021-02-09T20:41:51.207Z",
    "type": "completion"
   },
   {
    "code": "#just run this cell - we have some missing data we need to drop\ndf_2017 = df_2017.drop([183])",
    "id": "c84ca85e71a0414e896507e97c35d3af",
    "idx": 16,
    "time": "2021-02-09T20:41:52.540Z",
    "type": "execution"
   },
   {
    "id": "c84ca85e71a0414e896507e97c35d3af",
    "time": "2021-02-09T20:41:52.874Z",
    "type": "completion"
   },
   {
    "code": "# Let's take a look at the data\ndf_2017.head()",
    "id": "fd590f315e5840038a957a628cccc10a",
    "idx": 17,
    "time": "2021-02-09T20:42:10.156Z",
    "type": "execution"
   },
   {
    "id": "fd590f315e5840038a957a628cccc10a",
    "time": "2021-02-09T20:42:10.283Z",
    "type": "completion"
   },
   {
    "code": "# widget imports \n# import the widgets module\nimport ipywidgets as widgets\nfrom ipywidgets import interact, interactive, fixed, interact_manual\nfrom IPython.display import display",
    "id": "9694f451ecde42aa86598c24e87ee23b",
    "idx": 20,
    "time": "2021-02-09T20:42:13.597Z",
    "type": "execution"
   },
   {
    "id": "9694f451ecde42aa86598c24e87ee23b",
    "time": "2021-02-09T20:42:13.755Z",
    "type": "completion"
   },
   {
    "code": "def f(a, b):\n    # Polynomial best fit line.\n    df_2017_fit = np.polyfit(df_2017[a],df_2017[b],1)\n\n    # Scatter plots.\n    ax1= df_2017.plot(kind='scatter', x=a,y=b, color='blue',alpha=0.5, figsize=(12,6))\n\n    # Regression lines.\n    plt.plot(df_2017[a],df_2017_fit[0]*df_2017[a]+df_2017_fit[1], color='darkblue', linewidth=2)\n\n    # Regression equations.\n    x_text = max(df_2017[a])\n    y_text = min(df_2017[b])\n    plt.text(x_text,y_text,'y={:.2f}+{:.2f}*x'.format(df_2017_fit[1],df_2017_fit[0]),color='darkgreen',size=12, horizontalalignment='right',\n         verticalalignment='top')\n\n    # Legend, title and labels.\n    plt.legend(labels=['DF_2017'+'Regression Line','DF_2017'])\n    plt.title('Relationship between '+ a + ' and ' + b, size=18)\n    plt.xlabel(a, size=12)\n    plt.ylabel(b, size=12);\n    corr = df_2017.corr()[a][b]\n    print('Correlation: ',corr)\n    \ndisplay(widgets.interactive(f, a=df_2017.columns.tolist(),b=df_2017.columns.tolist()))",
    "id": "ae5040f731b148c089d982220079736b",
    "idx": 21,
    "time": "2021-02-09T20:42:16.413Z",
    "type": "execution"
   },
   {
    "id": "ae5040f731b148c089d982220079736b",
    "time": "2021-02-09T20:42:16.983Z",
    "type": "completion"
   },
   {
    "code": "#  Just run this cell\n\ntracts_gdf = geopandas.read_file('Oakland_Tracts.shp')\nmerged_gdf=tracts_gdf.set_index(\"GEOID_2\").join(df_2017.set_index(\"Census Tract\"))",
    "id": "3be355f81b5e4c3c8e6e5cd152f3e726",
    "idx": 25,
    "time": "2021-02-09T20:42:22.781Z",
    "type": "execution"
   },
   {
    "id": "3be355f81b5e4c3c8e6e5cd152f3e726",
    "time": "2021-02-09T20:42:22.963Z",
    "type": "completion"
   },
   {
    "code": "# Run this to get a list of variables in the data\ndf_2017.columns",
    "id": "e5734121f4d04ad69ff34248c31a3ddd",
    "idx": 26,
    "time": "2021-02-09T20:42:23.637Z",
    "type": "execution"
   },
   {
    "id": "e5734121f4d04ad69ff34248c31a3ddd",
    "time": "2021-02-09T20:42:23.712Z",
    "type": "completion"
   },
   {
    "code": "# This cell draws the map - just change the text in red after \"column=\" and what you want the title to be to change the indicator being mapped\n\nfigure, ax = plt.subplots(figsize=(14,10))\nax = merged_gdf.plot(column=\"Poverty Rate 2017\", legend=True, ax=ax, cmap=\"Blues\")\nlims=plt.axis(\"equal\") \nax.set_axis_off()\nax.set_title('Poverty Rate 2017', fontdict= \n            {'fontsize':25})\nplt.show()",
    "id": "3c250907ee274efb90b419c558f8674a",
    "idx": 27,
    "time": "2021-02-09T20:42:24.557Z",
    "type": "execution"
   },
   {
    "id": "3c250907ee274efb90b419c558f8674a",
    "time": "2021-02-09T20:42:25.337Z",
    "type": "completion"
   },
   {
    "code": "import warnings\nwarnings.filterwarnings('ignore')",
    "id": "fbf34c670e454ec28707e5ebe69df2e7",
    "idx": 6,
    "time": "2021-02-09T20:43:40.500Z",
    "type": "execution"
   },
   {
    "id": "fbf34c670e454ec28707e5ebe69df2e7",
    "time": "2021-02-09T20:43:40.578Z",
    "type": "completion"
   },
   {
    "code": "pip install -Iv geopandas==0.8.2",
    "id": "9e81e4e7a85d406989acecbe5f70a93a",
    "idx": 7,
    "time": "2021-02-09T20:43:42.061Z",
    "type": "execution"
   },
   {
    "id": "9e81e4e7a85d406989acecbe5f70a93a",
    "time": "2021-02-09T20:44:01.935Z",
    "type": "completion"
   },
   {
    "code": "pip install geojson -q",
    "id": "5e5ef475556048ba8deb2aa5fb8f06ee",
    "idx": 8,
    "time": "2021-02-09T20:44:04.452Z",
    "type": "execution"
   },
   {
    "id": "5e5ef475556048ba8deb2aa5fb8f06ee",
    "time": "2021-02-09T20:44:08.890Z",
    "type": "completion"
   },
   {
    "code": "#Importing Utilities\n#These are all pre-written Python packages that we will be using to read in, clean, analyze, and model our data.\nimport geopandas\nimport os\nimport re\nimport geojson\nimport folium\nimport math\nimport json as json\nimport matplotlib as mpl\nimport pylab as plt\nimport pandas as pd\nimport numpy as np\nimport seaborn as sns\nimport matplotlib.pyplot as plt\nimport ipywidgets as widgets\nfrom IPython.display import IFrame\nplt.style.use('fivethirtyeight')\n# import ipywidgets as widgets\n%matplotlib inline\npd.options.display.float_format = '{:.2f}'.format",
    "id": "723935411ad04ef288d0cc7ea00cb96b",
    "idx": 9,
    "time": "2021-02-09T20:44:12.301Z",
    "type": "execution"
   },
   {
    "id": "723935411ad04ef288d0cc7ea00cb96b",
    "time": "2021-02-09T20:44:14.500Z",
    "type": "completion"
   },
   {
    "code": "#This cell imports the map file for Oakland\n\ngeo_json_data = json.load(open('CAOakland1937.geojson'))",
    "id": "e537fc9ffe3948268283ffbda1a8051d",
    "idx": 11,
    "time": "2021-02-09T20:44:18.292Z",
    "type": "execution"
   },
   {
    "id": "e537fc9ffe3948268283ffbda1a8051d",
    "time": "2021-02-09T20:44:18.479Z",
    "type": "completion"
   },
   {
    "code": "# This cell assigns each of the HOLC grades a color\n\ndef my_color_function(feature):\n    if feature['properties']['holc_grade']== 'A':\n        return '#98ff98'\n    elif feature['properties']['holc_grade']== 'B':\n        return '#5bc0de'\n    elif feature['properties']['holc_grade'] =='C':\n        return '#ffe200'\n    else:\n        return '#ff00aa'",
    "id": "76ffbafb5e694f62b63f5a0c1fee0d17",
    "idx": 12,
    "time": "2021-02-09T20:44:19.268Z",
    "type": "execution"
   },
   {
    "id": "76ffbafb5e694f62b63f5a0c1fee0d17",
    "time": "2021-02-09T20:44:19.354Z",
    "type": "completion"
   },
   {
    "code": "#  This cell draws the map, including the coordinates for Oakland\nm = folium.Map([37.8044,-122.271], tiles='cartodbpositron', zoom_start=12)\nfolium.GeoJson(\n    geo_json_data,\n        style_function=lambda feature: {\n        'fillColor': my_color_function(feature),\n        'color' : 'black',\n        'weight' : 1,   \n        }\n    ).add_to(m)\nm",
    "id": "311b95a5243f4f76807a6eae222cd8bb",
    "idx": 13,
    "time": "2021-02-09T20:44:20.724Z",
    "type": "execution"
   },
   {
    "id": "311b95a5243f4f76807a6eae222cd8bb",
    "time": "2021-02-09T20:44:21.488Z",
    "type": "completion"
   },
   {
    "code": "#  First, we're going to read in data that Carolina pulled from Policy Map\n!pip install xlrd\ndf_2017 = pd.read_excel('Oakland_1990_2017_Data.xlsx', dtype={\"Census Tract\":str})",
    "id": "64a17f3500b94d328ff159c86adfbff1",
    "idx": 15,
    "time": "2021-02-09T20:44:27.126Z",
    "type": "execution"
   },
   {
    "id": "64a17f3500b94d328ff159c86adfbff1",
    "time": "2021-02-09T20:44:32.091Z",
    "type": "completion"
   },
   {
    "code": "#just run this cell - we have some missing data we need to drop\ndf_2017 = df_2017.dropna()",
    "id": "c84ca85e71a0414e896507e97c35d3af",
    "idx": 16,
    "time": "2021-02-09T20:44:32.756Z",
    "type": "execution"
   },
   {
    "id": "c84ca85e71a0414e896507e97c35d3af",
    "time": "2021-02-09T20:44:32.867Z",
    "type": "completion"
   },
   {
    "code": "# Let's take a look at the data\ndf_2017.head()",
    "id": "fd590f315e5840038a957a628cccc10a",
    "idx": 17,
    "time": "2021-02-09T20:44:33.604Z",
    "type": "execution"
   },
   {
    "id": "fd590f315e5840038a957a628cccc10a",
    "time": "2021-02-09T20:44:33.749Z",
    "type": "completion"
   },
   {
    "code": "# widget imports \n# import the widgets module\nimport ipywidgets as widgets\nfrom ipywidgets import interact, interactive, fixed, interact_manual\nfrom IPython.display import display",
    "id": "9694f451ecde42aa86598c24e87ee23b",
    "idx": 20,
    "time": "2021-02-09T20:44:41.909Z",
    "type": "execution"
   },
   {
    "id": "9694f451ecde42aa86598c24e87ee23b",
    "time": "2021-02-09T20:44:41.979Z",
    "type": "completion"
   },
   {
    "code": "def f(a, b):\n    # Polynomial best fit line.\n    df_2017_fit = np.polyfit(df_2017[a],df_2017[b],1)\n\n    # Scatter plots.\n    ax1= df_2017.plot(kind='scatter', x=a,y=b, color='blue',alpha=0.5, figsize=(12,6))\n\n    # Regression lines.\n    plt.plot(df_2017[a],df_2017_fit[0]*df_2017[a]+df_2017_fit[1], color='darkblue', linewidth=2)\n\n    # Regression equations.\n    x_text = max(df_2017[a])\n    y_text = min(df_2017[b])\n    plt.text(x_text,y_text,'y={:.2f}+{:.2f}*x'.format(df_2017_fit[1],df_2017_fit[0]),color='darkgreen',size=12, horizontalalignment='right',\n         verticalalignment='top')\n\n    # Legend, title and labels.\n    plt.legend(labels=['DF_2017'+'Regression Line','DF_2017'])\n    plt.title('Relationship between '+ a + ' and ' + b, size=18)\n    plt.xlabel(a, size=12)\n    plt.ylabel(b, size=12);\n    corr = df_2017.corr()[a][b]\n    print('Correlation: ',corr)\n    \ndisplay(widgets.interactive(f, a=df_2017.columns.tolist(),b=df_2017.columns.tolist()))",
    "id": "ae5040f731b148c089d982220079736b",
    "idx": 21,
    "time": "2021-02-09T20:44:43.109Z",
    "type": "execution"
   },
   {
    "id": "ae5040f731b148c089d982220079736b",
    "time": "2021-02-09T20:44:43.703Z",
    "type": "completion"
   },
   {
    "code": "#  Just run this cell\n\ntracts_gdf = geopandas.read_file('Oakland_Tracts.shp')\nmerged_gdf=tracts_gdf.set_index(\"GEOID_2\").join(df_2017.set_index(\"Census Tract\"))",
    "id": "3be355f81b5e4c3c8e6e5cd152f3e726",
    "idx": 25,
    "time": "2021-02-09T20:44:48.509Z",
    "type": "execution"
   },
   {
    "id": "3be355f81b5e4c3c8e6e5cd152f3e726",
    "time": "2021-02-09T20:44:48.695Z",
    "type": "completion"
   },
   {
    "code": "# Run this to get a list of variables in the data\ndf_2017.columns",
    "id": "e5734121f4d04ad69ff34248c31a3ddd",
    "idx": 26,
    "time": "2021-02-09T20:44:49.412Z",
    "type": "execution"
   },
   {
    "id": "e5734121f4d04ad69ff34248c31a3ddd",
    "time": "2021-02-09T20:44:49.512Z",
    "type": "completion"
   },
   {
    "code": "# This cell draws the map - just change the text in red after \"column=\" and what you want the title to be to change the indicator being mapped\n\nfigure, ax = plt.subplots(figsize=(14,10))\nax = merged_gdf.plot(column=\"Poverty Rate 2017\", legend=True, ax=ax, cmap=\"Blues\")\nlims=plt.axis(\"equal\") \nax.set_axis_off()\nax.set_title('Poverty Rate 2017', fontdict= \n            {'fontsize':25})\nplt.show()",
    "id": "3c250907ee274efb90b419c558f8674a",
    "idx": 27,
    "time": "2021-02-09T20:44:50.564Z",
    "type": "execution"
   },
   {
    "id": "3c250907ee274efb90b419c558f8674a",
    "time": "2021-02-09T20:44:51.375Z",
    "type": "completion"
   }
  ],
  "kernelspec": {
   "display_name": "Python 3",
   "language": "python",
   "name": "python3"
  },
  "language_info": {
   "codemirror_mode": {
    "name": "ipython",
    "version": 3
   },
   "file_extension": ".py",
   "mimetype": "text/x-python",
   "name": "python",
   "nbconvert_exporter": "python",
   "pygments_lexer": "ipython3",
   "version": "3.8.6"
  }
 },
 "nbformat": 4,
 "nbformat_minor": 2
}
